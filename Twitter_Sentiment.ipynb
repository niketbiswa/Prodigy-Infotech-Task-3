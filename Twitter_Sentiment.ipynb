{
 "cells": [
  {
   "cell_type": "markdown",
   "id": "225781f4-baf5-4bce-9d3c-439b9e0f7963",
   "metadata": {},
   "source": [
    "Importig Libraries"
   ]
  },
  {
   "cell_type": "code",
   "execution_count": 2,
   "id": "8810a64b-4a2a-4fff-9046-527fffafb8b1",
   "metadata": {},
   "outputs": [],
   "source": [
    "import pandas as pd\n",
    "import numpy as np\n",
    "import matplotlib.pyplot as plt\n",
    "import seaborn as sns\n",
    "from sklearn.model_selection import train_test_split\n",
    "from sklearn.feature_extraction.text import TfidfVectorizer\n",
    "from sklearn.linear_model import LogisticRegression\n",
    "from sklearn.metrics import accuracy_score, classification_report, confusion_matrix\n",
    "from sklearn.model_selection import GridSearchCV"
   ]
  },
  {
   "cell_type": "markdown",
   "id": "22ef84a1-2e51-43ed-b513-09e4e767bf0e",
   "metadata": {},
   "source": [
    "Load and Explore the Dataset"
   ]
  },
  {
   "cell_type": "code",
   "execution_count": 7,
   "id": "62847e7a-6236-4c04-aea9-bc829efc7106",
   "metadata": {},
   "outputs": [],
   "source": [
    "train_df = pd.read_csv('twitter_training.csv',header=None)"
   ]
  },
  {
   "cell_type": "code",
   "execution_count": 9,
   "id": "2faec136-4212-4926-9c30-8d6d76d752ec",
   "metadata": {},
   "outputs": [],
   "source": [
    "# Assign meaningful column names\n",
    "train_df.columns = ['ID', 'Entity', 'Sentiment', 'Message']"
   ]
  },
  {
   "cell_type": "code",
   "execution_count": 11,
   "id": "ebc6855e-5f86-4080-85af-b040e8d61cf3",
   "metadata": {},
   "outputs": [
    {
     "name": "stdout",
     "output_type": "stream",
     "text": [
      "Dataset Info:\n",
      "<class 'pandas.core.frame.DataFrame'>\n",
      "RangeIndex: 74682 entries, 0 to 74681\n",
      "Data columns (total 4 columns):\n",
      " #   Column     Non-Null Count  Dtype \n",
      "---  ------     --------------  ----- \n",
      " 0   ID         74682 non-null  int64 \n",
      " 1   Entity     74682 non-null  object\n",
      " 2   Sentiment  74682 non-null  object\n",
      " 3   Message    73996 non-null  object\n",
      "dtypes: int64(1), object(3)\n",
      "memory usage: 2.3+ MB\n",
      "None\n"
     ]
    }
   ],
   "source": [
    "# Display basic dataset info\n",
    "print(\"Dataset Info:\")\n",
    "print(train_df.info())"
   ]
  },
  {
   "cell_type": "code",
   "execution_count": 13,
   "id": "9aae86cd-4935-47ca-b7eb-497961ff8ec9",
   "metadata": {},
   "outputs": [
    {
     "name": "stdout",
     "output_type": "stream",
     "text": [
      "\n",
      "Sample Data:\n",
      "     ID       Entity Sentiment  \\\n",
      "0  2401  Borderlands  Positive   \n",
      "1  2401  Borderlands  Positive   \n",
      "2  2401  Borderlands  Positive   \n",
      "3  2401  Borderlands  Positive   \n",
      "4  2401  Borderlands  Positive   \n",
      "\n",
      "                                             Message  \n",
      "0  im getting on borderlands and i will murder yo...  \n",
      "1  I am coming to the borders and I will kill you...  \n",
      "2  im getting on borderlands and i will kill you ...  \n",
      "3  im coming on borderlands and i will murder you...  \n",
      "4  im getting on borderlands 2 and i will murder ...  \n"
     ]
    }
   ],
   "source": [
    "# View the first few records\n",
    "print(\"\\nSample Data:\")\n",
    "print(train_df.head())"
   ]
  },
  {
   "cell_type": "code",
   "execution_count": 15,
   "id": "5fa7d458-746c-4d75-97c3-ad20260c664e",
   "metadata": {},
   "outputs": [
    {
     "name": "stdout",
     "output_type": "stream",
     "text": [
      "\n",
      "Missing Values:\n",
      "ID             0\n",
      "Entity         0\n",
      "Sentiment      0\n",
      "Message      686\n",
      "dtype: int64\n"
     ]
    }
   ],
   "source": [
    "# Check for missing values\n",
    "print(\"\\nMissing Values:\")\n",
    "print(train_df.isnull().sum())"
   ]
  },
  {
   "cell_type": "markdown",
   "id": "9eb4c0ee-d4a8-4387-8361-b83ebee88b2d",
   "metadata": {},
   "source": [
    "Data Preprocessing and Cleaning"
   ]
  },
  {
   "cell_type": "code",
   "execution_count": 18,
   "id": "0441d0a0-2c7f-40fe-bc02-46744c219742",
   "metadata": {},
   "outputs": [],
   "source": [
    "import re\n",
    "\n",
    "# Define text cleaning function\n",
    "def clean_text(text):\n",
    "    text = re.sub(r'http\\S+', '', text)  # Remove URLs\n",
    "    text = re.sub(r'@\\w+', '', text)  # Remove mentions\n",
    "    text = re.sub(r'[^A-Za-z0-9 ]+', '', text)  # Remove special characters\n",
    "    text = text.lower().strip()  # Convert to lowercase\n",
    "    return text"
   ]
  },
  {
   "cell_type": "code",
   "execution_count": 20,
   "id": "cb3f9713-a954-41e7-a1ab-3c3fe313fdb0",
   "metadata": {},
   "outputs": [],
   "source": [
    "# Apply cleaning\n",
    "train_df['Message'] = train_df['Message'].astype(str).apply(clean_text)\n"
   ]
  },
  {
   "cell_type": "code",
   "execution_count": 22,
   "id": "ebe718c6-c397-4254-a807-732bea3e7a23",
   "metadata": {},
   "outputs": [],
   "source": [
    "# Remove missing sentiment values\n",
    "train_df.dropna(subset=['Sentiment'], inplace=True)"
   ]
  },
  {
   "cell_type": "code",
   "execution_count": 24,
   "id": "74d105b4-6368-4cfd-8145-fe14cdb2fae3",
   "metadata": {},
   "outputs": [],
   "source": [
    "# Convert sentiment labels to numerical values\n",
    "sentiment_mapping = {'Positive': 1, 'Negative': 0, 'Neutral': 2}\n",
    "train_df['Sentiment'] = train_df['Sentiment'].map(sentiment_mapping)"
   ]
  },
  {
   "cell_type": "code",
   "execution_count": 26,
   "id": "77fec8be-06b2-4790-bc9d-b59b5a103f30",
   "metadata": {},
   "outputs": [],
   "source": [
    "# Remove any remaining NaN values after mapping\n",
    "train_df.dropna(subset=['Sentiment'], inplace=True)"
   ]
  },
  {
   "cell_type": "code",
   "execution_count": 28,
   "id": "b2bbc2e2-c917-4083-9a1b-e1d9349f6cc7",
   "metadata": {},
   "outputs": [],
   "source": [
    "# Convert Sentiment to integer\n",
    "train_df['Sentiment'] = train_df['Sentiment'].astype(int)"
   ]
  },
  {
   "cell_type": "code",
   "execution_count": 30,
   "id": "d6b653d3-9330-48b8-bb31-2052e9cb7eb0",
   "metadata": {},
   "outputs": [
    {
     "name": "stdout",
     "output_type": "stream",
     "text": [
      "\n",
      "Unique sentiment values after encoding: [1 2 0]\n"
     ]
    }
   ],
   "source": [
    "# Check unique sentiment values\n",
    "print(\"\\nUnique sentiment values after encoding:\", train_df['Sentiment'].unique())"
   ]
  },
  {
   "cell_type": "markdown",
   "id": "bb6071d5-f15a-4a91-a3b1-6b1868357250",
   "metadata": {},
   "source": [
    "Feature Extraction Using TF-IDF"
   ]
  },
  {
   "cell_type": "code",
   "execution_count": 33,
   "id": "4131d31b-c955-4910-aaa4-1ae9ac0205b6",
   "metadata": {},
   "outputs": [
    {
     "name": "stdout",
     "output_type": "stream",
     "text": [
      "Shape of feature matrix: (61692, 15000)\n"
     ]
    }
   ],
   "source": [
    "# Convert text messages to numerical features using TF-IDF\n",
    "vectorizer = TfidfVectorizer(max_features=15000, stop_words='english', ngram_range=(1,2))\n",
    "X = vectorizer.fit_transform(train_df['Message'])\n",
    "y = train_df['Sentiment']\n",
    "\n",
    "print(\"Shape of feature matrix:\", X.shape)"
   ]
  },
  {
   "cell_type": "markdown",
   "id": "d3654f6f-51b6-4424-af0f-b60650d8ecc1",
   "metadata": {},
   "source": [
    "Splitting the Data for Training and Testing"
   ]
  },
  {
   "cell_type": "code",
   "execution_count": 36,
   "id": "c48329a5-ac9a-4a46-b7d4-7f894a9aa5d9",
   "metadata": {},
   "outputs": [
    {
     "name": "stdout",
     "output_type": "stream",
     "text": [
      "Training set size: (49353, 15000)\n",
      "Testing set size: (12339, 15000)\n"
     ]
    }
   ],
   "source": [
    "# Split the data into training and testing sets\n",
    "X_train, X_test, y_train, y_test = train_test_split(X, y, test_size=0.2, random_state=42)\n",
    "\n",
    "# Print dataset sizes\n",
    "print(\"Training set size:\", X_train.shape)\n",
    "print(\"Testing set size:\", X_test.shape)\n"
   ]
  },
  {
   "cell_type": "markdown",
   "id": "5ad9f436-704d-42aa-8731-249574a657c0",
   "metadata": {},
   "source": [
    "Model Training Using Logistic Regression"
   ]
  },
  {
   "cell_type": "code",
   "execution_count": 39,
   "id": "ec6dc4ec-1f24-436c-9562-bf93613f2dc2",
   "metadata": {},
   "outputs": [
    {
     "name": "stdout",
     "output_type": "stream",
     "text": [
      "Best Parameters: {'C': 50}\n"
     ]
    }
   ],
   "source": [
    "# Define Logistic Regression model\n",
    "model = LogisticRegression(max_iter=2000)\n",
    "\n",
    "# Define parameter grid for tuning\n",
    "parameters = {'C': [0.01, 0.1, 1, 10, 50, 100]}\n",
    "\n",
    "# Perform Grid Search to find best hyperparameters\n",
    "grid_search = GridSearchCV(model, parameters, cv=5, scoring='accuracy')\n",
    "grid_search.fit(X_train, y_train)\n",
    "\n",
    "# Get best parameter\n",
    "best_param = grid_search.best_params_\n",
    "print(\"Best Parameters:\", best_param)\n",
    "\n",
    "# Train final model using best parameter\n",
    "best_model = LogisticRegression(C=best_param['C'], max_iter=2000)\n",
    "best_model.fit(X_train, y_train)\n",
    "\n",
    "# Make predictions on test data\n",
    "y_pred = best_model.predict(X_test)"
   ]
  },
  {
   "cell_type": "markdown",
   "id": "27a000b0-df04-4b17-a9f5-05a97b08c759",
   "metadata": {},
   "source": [
    "Model Evaluation"
   ]
  },
  {
   "cell_type": "code",
   "execution_count": 41,
   "id": "87be1673-5597-42a2-8eb5-519d704be061",
   "metadata": {},
   "outputs": [
    {
     "name": "stdout",
     "output_type": "stream",
     "text": [
      "Model Accuracy: 0.8525812464543318\n",
      "Classification Report:\n",
      "               precision    recall  f1-score   support\n",
      "\n",
      "           0       0.89      0.85      0.87      4509\n",
      "           1       0.83      0.88      0.85      4180\n",
      "           2       0.84      0.82      0.83      3650\n",
      "\n",
      "    accuracy                           0.85     12339\n",
      "   macro avg       0.85      0.85      0.85     12339\n",
      "weighted avg       0.85      0.85      0.85     12339\n",
      "\n"
     ]
    }
   ],
   "source": [
    "# Evaluate accuracy\n",
    "accuracy = accuracy_score(y_test, y_pred)\n",
    "print(\"Model Accuracy:\", accuracy)\n",
    "\n",
    "# Print classification report\n",
    "print(\"Classification Report:\\n\", classification_report(y_test, y_pred))"
   ]
  },
  {
   "cell_type": "markdown",
   "id": "6d9c680a-e57d-4330-a501-93201c118531",
   "metadata": {},
   "source": [
    "Visualizing Confusion Matrix"
   ]
  },
  {
   "cell_type": "code",
   "execution_count": 45,
   "id": "c2d97fc1-4edc-4587-b60b-2330a15d5c2d",
   "metadata": {},
   "outputs": [
    {
     "data": {
      "image/png": "[encoded data removed]",
      "text/plain": [
       "<Figure size 600x400 with 2 Axes>"
      ]
     },
     "metadata": {},
     "output_type": "display_data"
    }
   ],
   "source": [
    "# Create and visualize confusion matrix\n",
    "cm = confusion_matrix(y_test, y_pred)\n",
    "\n",
    "# Plot confusion matrix using seaborn\n",
    "plt.figure(figsize=(6,4))\n",
    "sns.heatmap(cm, annot=True, fmt='d', cmap='Blues', xticklabels=['Negative', 'Positive', 'Neutral'], yticklabels=['Negative', 'Positive', 'Neutral'])\n",
    "plt.title('Confusion Matrix')\n",
    "plt.xlabel('Predicted')\n",
    "plt.ylabel('Actual')\n",
    "plt.show()"
   ]
  },
  {
   "cell_type": "markdown",
   "id": "e0e97bd3-fddb-4539-be14-1c185479c118",
   "metadata": {},
   "source": [
    "Save the Model and Vectorizer"
   ]
  },
  {
   "cell_type": "code",
   "execution_count": 48,
   "id": "48db9baf-c6f5-4387-abb3-fd6906e27576",
   "metadata": {},
   "outputs": [
    {
     "name": "stdout",
     "output_type": "stream",
     "text": [
      "Model and vectorizer saved successfully.\n"
     ]
    }
   ],
   "source": [
    "import joblib\n",
    "\n",
    "# Save the trained model and vectorizer for future use\n",
    "joblib.dump(best_model, 'sentiment_model.pkl')\n",
    "joblib.dump(vectorizer, 'tfidf_vectorizer.pkl')\n",
    "\n",
    "print(\"Model and vectorizer saved successfully.\")"
   ]
  },
  {
   "cell_type": "markdown",
   "id": "20186ef8-ac38-44d0-92df-6329e162bee3",
   "metadata": {},
   "source": [
    "Make Predictions on New Data"
   ]
  },
  {
   "cell_type": "code",
   "execution_count": 51,
   "id": "a769a5e0-4bbb-46d5-b5c8-b4479298ab34",
   "metadata": {},
   "outputs": [
    {
     "name": "stdout",
     "output_type": "stream",
     "text": [
      "Predicted Sentiment: Positive\n"
     ]
    }
   ],
   "source": [
    "# Function to predict sentiment of a new message\n",
    "def predict_sentiment(message):\n",
    "    message_cleaned = clean_text(message)\n",
    "    message_vectorized = vectorizer.transform([message_cleaned])\n",
    "    prediction = best_model.predict(message_vectorized)\n",
    "    \n",
    "    sentiment_label = {0: 'Negative', 1: 'Positive', 2: 'Neutral'}\n",
    "    return sentiment_label[prediction[0]]\n",
    "\n",
    "# Test the function\n",
    "new_message = \"I love this product! It's amazing.\"\n",
    "print(\"Predicted Sentiment:\", predict_sentiment(new_message))\n"
   ]
  },
  {
   "cell_type": "code",
   "execution_count": null,
   "id": "0c250a08-8c62-44e2-bd15-8cdf0aab8cba",
   "metadata": {},
   "outputs": [],
   "source": []
  }
 ],
 "metadata": {
  "kernelspec": {
   "display_name": "Python 3 (ipykernel)",
   "language": "python",
   "name": "python3"
  },
  "language_info": {
   "codemirror_mode": {
    "name": "ipython",
    "version": 3
   },
   "file_extension": ".py",
   "mimetype": "text/x-python",
   "name": "python",
   "nbconvert_exporter": "python",
   "pygments_lexer": "ipython3",
   "version": "3.11.7"
  }
 },
 "nbformat": 4,
 "nbformat_minor": 5
}
